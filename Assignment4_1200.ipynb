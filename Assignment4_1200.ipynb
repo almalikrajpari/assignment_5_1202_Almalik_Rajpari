{
 "cells": [
  {
   "cell_type": "markdown",
   "id": "1ec47970",
   "metadata": {},
   "source": [
    "# Assignment 4_1200"
   ]
  },
  {
   "cell_type": "markdown",
   "id": "59ad3b10",
   "metadata": {},
   "source": [
    "Student Name: Almalik Rajpari\n",
    "\n",
    "Student ID: 100835872"
   ]
  },
  {
   "cell_type": "code",
   "execution_count": 1,
   "id": "403205f1",
   "metadata": {},
   "outputs": [],
   "source": [
    "#Load Libraries\n",
    "import pandas as pd\n",
    "import numpy as np\n",
    "import matplotlib.pyplot as plt\n",
    "%matplotlib inline"
   ]
  },
  {
   "cell_type": "code",
   "execution_count": 2,
   "id": "ebfc7a93",
   "metadata": {},
   "outputs": [
    {
     "data": {
      "text/html": [
       "<div>\n",
       "<style scoped>\n",
       "    .dataframe tbody tr th:only-of-type {\n",
       "        vertical-align: middle;\n",
       "    }\n",
       "\n",
       "    .dataframe tbody tr th {\n",
       "        vertical-align: top;\n",
       "    }\n",
       "\n",
       "    .dataframe thead th {\n",
       "        text-align: right;\n",
       "    }\n",
       "</style>\n",
       "<table border=\"1\" class=\"dataframe\">\n",
       "  <thead>\n",
       "    <tr style=\"text-align: right;\">\n",
       "      <th></th>\n",
       "      <th>Age</th>\n",
       "      <th>Sex</th>\n",
       "      <th>BP</th>\n",
       "      <th>Cholesterol</th>\n",
       "      <th>Na_to_K</th>\n",
       "      <th>Drug</th>\n",
       "    </tr>\n",
       "  </thead>\n",
       "  <tbody>\n",
       "    <tr>\n",
       "      <th>0</th>\n",
       "      <td>23</td>\n",
       "      <td>1</td>\n",
       "      <td>2</td>\n",
       "      <td>1</td>\n",
       "      <td>25.355</td>\n",
       "      <td>drugY</td>\n",
       "    </tr>\n",
       "    <tr>\n",
       "      <th>1</th>\n",
       "      <td>47</td>\n",
       "      <td>0</td>\n",
       "      <td>1</td>\n",
       "      <td>1</td>\n",
       "      <td>13.093</td>\n",
       "      <td>drugC</td>\n",
       "    </tr>\n",
       "    <tr>\n",
       "      <th>2</th>\n",
       "      <td>47</td>\n",
       "      <td>0</td>\n",
       "      <td>1</td>\n",
       "      <td>1</td>\n",
       "      <td>10.114</td>\n",
       "      <td>drugC</td>\n",
       "    </tr>\n",
       "    <tr>\n",
       "      <th>3</th>\n",
       "      <td>28</td>\n",
       "      <td>1</td>\n",
       "      <td>0</td>\n",
       "      <td>1</td>\n",
       "      <td>7.798</td>\n",
       "      <td>drugX</td>\n",
       "    </tr>\n",
       "    <tr>\n",
       "      <th>4</th>\n",
       "      <td>61</td>\n",
       "      <td>1</td>\n",
       "      <td>1</td>\n",
       "      <td>1</td>\n",
       "      <td>18.043</td>\n",
       "      <td>drugY</td>\n",
       "    </tr>\n",
       "  </tbody>\n",
       "</table>\n",
       "</div>"
      ],
      "text/plain": [
       "   Age  Sex  BP  Cholesterol  Na_to_K   Drug\n",
       "0   23    1   2            1   25.355  drugY\n",
       "1   47    0   1            1   13.093  drugC\n",
       "2   47    0   1            1   10.114  drugC\n",
       "3   28    1   0            1    7.798  drugX\n",
       "4   61    1   1            1   18.043  drugY"
      ]
     },
     "execution_count": 2,
     "metadata": {},
     "output_type": "execute_result"
    }
   ],
   "source": [
    "#Load Dataset\n",
    "drugdataset=pd.read_csv(\"/Users/Almalik/Desktop/Data Analytics for Business Decision Making/1200 - Tue 1 PM - Intro to DA - Omar/Assignment 4/drugdataset.csv\")\n",
    "drugdataset.head()"
   ]
  },
  {
   "cell_type": "code",
   "execution_count": 4,
   "id": "f220b405",
   "metadata": {},
   "outputs": [],
   "source": [
    "#Create x and y variables\n",
    "x=drugdataset.drop('Drug', axis=1).to_numpy()\n",
    "y=drugdataset['Drug'].to_numpy()"
   ]
  },
  {
   "cell_type": "code",
   "execution_count": 5,
   "id": "6a21b913",
   "metadata": {},
   "outputs": [],
   "source": [
    "#Create Training and Test Datasets\n",
    "from sklearn.model_selection import train_test_split\n",
    "x_train, x_test,y_train, y_test = train_test_split(x, y, stratify=y,test_size=0.2,random_state=100)"
   ]
  },
  {
   "cell_type": "code",
   "execution_count": 6,
   "id": "3be49e28",
   "metadata": {},
   "outputs": [],
   "source": [
    "#Scale the Data\n",
    "from sklearn.preprocessing import StandardScaler\n",
    "sc = StandardScaler()\n",
    "x_train2 = sc.fit_transform(x_train)\n",
    "x_test2 = sc.transform(x_test)"
   ]
  },
  {
   "cell_type": "code",
   "execution_count": 8,
   "id": "51ffecfa",
   "metadata": {},
   "outputs": [
    {
     "name": "stdout",
     "output_type": "stream",
     "text": [
      "\n",
      "Estimator: SVM\n",
      "[[ 5  0  0  0  0]\n",
      " [ 0  2  0  0  1]\n",
      " [ 0  0  3  0  0]\n",
      " [ 0  0  0 11  0]\n",
      " [ 0  0  0  1 17]]\n",
      "              precision    recall  f1-score   support\n",
      "\n",
      "       drugA       1.00      1.00      1.00         5\n",
      "       drugB       1.00      0.67      0.80         3\n",
      "       drugC       1.00      1.00      1.00         3\n",
      "       drugX       0.92      1.00      0.96        11\n",
      "       drugY       0.94      0.94      0.94        18\n",
      "\n",
      "    accuracy                           0.95        40\n",
      "   macro avg       0.97      0.92      0.94        40\n",
      "weighted avg       0.95      0.95      0.95        40\n",
      "\n",
      "\n",
      "Estimator: Naive Bayes\n",
      "[[ 5  0  0  0  0]\n",
      " [ 0  3  0  0  0]\n",
      " [ 0  0  3  0  0]\n",
      " [ 0  0  0 10  1]\n",
      " [ 1  1  3  1 12]]\n",
      "              precision    recall  f1-score   support\n",
      "\n",
      "       drugA       0.83      1.00      0.91         5\n",
      "       drugB       0.75      1.00      0.86         3\n",
      "       drugC       0.50      1.00      0.67         3\n",
      "       drugX       0.91      0.91      0.91        11\n",
      "       drugY       0.92      0.67      0.77        18\n",
      "\n",
      "    accuracy                           0.82        40\n",
      "   macro avg       0.78      0.92      0.82        40\n",
      "weighted avg       0.86      0.82      0.83        40\n",
      "\n"
     ]
    }
   ],
   "source": [
    "#Script for SVM and NB\n",
    "from sklearn.svm import SVC\n",
    "from sklearn.naive_bayes import GaussianNB\n",
    "from sklearn.metrics import classification_report, confusion_matrix  \n",
    "\n",
    "for name,method in [('SVM', SVC(kernel='linear',random_state=100)),\n",
    "                    ('Naive Bayes',GaussianNB())]: \n",
    "    method.fit(x_train2,y_train)\n",
    "    predict = method.predict(x_test2)\n",
    "    target_names=['drugA','drugB','drugC', 'drugX', 'drugY']\n",
    "    print('\\nEstimator: {}'.format(name)) \n",
    "    print(confusion_matrix(y_test,predict))  \n",
    "    print(classification_report(y_test,predict,target_names=target_names))"
   ]
  },
  {
   "cell_type": "code",
   "execution_count": null,
   "id": "6eac29d3",
   "metadata": {},
   "outputs": [],
   "source": []
  }
 ],
 "metadata": {
  "kernelspec": {
   "display_name": "Python 3",
   "language": "python",
   "name": "python3"
  },
  "language_info": {
   "codemirror_mode": {
    "name": "ipython",
    "version": 3
   },
   "file_extension": ".py",
   "mimetype": "text/x-python",
   "name": "python",
   "nbconvert_exporter": "python",
   "pygments_lexer": "ipython3",
   "version": "3.8.8"
  }
 },
 "nbformat": 4,
 "nbformat_minor": 5
}
